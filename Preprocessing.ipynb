{
 "cells": [
  {
   "cell_type": "code",
   "execution_count": 35,
   "metadata": {
    "collapsed": true
   },
   "outputs": [],
   "source": [
    "# import data\n",
    "\n",
    "import json\n",
    "\n",
    "rating = json.load(open('rating_200k.json'))\n",
    "animedata = json.load(open('anime.json'))"
   ]
  },
  {
   "cell_type": "code",
   "execution_count": 36,
   "metadata": {
    "collapsed": true
   },
   "outputs": [],
   "source": [
    "from collections import defaultdict\n",
    "\n",
    "def get_genre_by_anime(anime_dataset):\n",
    "    \n",
    "    genre_by_anime = defaultdict(list)      # list of animes corresponding to certain genre\n",
    "\n",
    "    for entry in anime_dataset: \n",
    "        for genre in entry['genre']:\n",
    "            genre_by_anime[genre].append(entry['anime_id'])\n",
    "            \n",
    "    return genre_by_anime"
   ]
  },
  {
   "cell_type": "code",
   "execution_count": 37,
   "metadata": {
    "collapsed": true
   },
   "outputs": [],
   "source": [
    "def get_anime_view_dict(rating_dataset):\n",
    "\n",
    "    anime_view_dict = defaultdict(list)     # list of users that watched certain anime\n",
    "    \n",
    "    for entry in rating:\n",
    "        anime_id = entry['anime_id']\n",
    "        user_id = entry['user_id']\n",
    "        anime_view_dict[anime_id].append(user_id)\n",
    "        \n",
    "    return anime_view_dict"
   ]
  },
  {
   "cell_type": "code",
   "execution_count": 38,
   "metadata": {
    "collapsed": true
   },
   "outputs": [],
   "source": [
    "def get_genreCount(anime_dataset):\n",
    "    genres = set()    # set of all genres\n",
    "    genreCount = defaultdict(int)     # count of each genre\n",
    "    \n",
    "    for entry in animedata:\n",
    "        for genre in entry['genre']:\n",
    "            genres.add(genre)\n",
    "            genreCount[genre] += 1\n",
    "            \n",
    "    return genreCount"
   ]
  },
  {
   "cell_type": "code",
   "execution_count": 39,
   "metadata": {
    "collapsed": true
   },
   "outputs": [],
   "source": [
    "def get_typeCount(anime_dataset):\n",
    "    typeCount = defaultdict(int)\n",
    "\n",
    "    for entry in animedata:\n",
    "        typeCount[entry['type']] += 1\n",
    "        \n",
    "    return typeCount"
   ]
  },
  {
   "cell_type": "code",
   "execution_count": 40,
   "metadata": {
    "collapsed": true
   },
   "outputs": [],
   "source": [
    "japanese_stopwords = {\"a\", \"i\", \"u\", \"e\", \"o\", \"ka\", \"ki\", \"ku\", \"ke\", \"ko\", \"ga\", \"gi\", \"gu\", \"ge\", \"go\",\n",
    "                      \"sa\", \"si\", \"su\", \"se\", \"so\", \"za\", \"zi\", \"zu\", \"ze\", \"zo\",\n",
    "                        \"ta\", \"ti\",\"tsu\", \"te\", \"to\", \"da\", \"di\", \"du\", \"de\", \"do\", \"na\", \"no\", \"ni\",\"nu\", \"ne\",\n",
    "                      \"ha\", \"hi\", \"hu\", \"he\", \"ho\", \"ba\", \"bi\", \"bu\", \"be\", \"bo\", \"ma\", \"mi\", \"mu\", \"me\", \"mo\",\n",
    "                      \"ya\", \"yo\",\"yu\", \"ra\", \"ri\", \"ru\", \"re\", \"ro\", \"wa\", \"wo\", \"n\"}\n",
    "\n",
    "number = {\"1\",\"2\",\"3\",\"4\",\"5\",\"6\",\"7\",\"8\",\"9\"}"
   ]
  },
  {
   "cell_type": "code",
   "execution_count": 41,
   "metadata": {},
   "outputs": [],
   "source": [
    "# Most popular word occuring in title\n",
    "\n",
    "import string\n",
    "from nltk.stem.porter import *\n",
    "from nltk.corpus import stopwords\n",
    "from collections import defaultdict\n",
    "\n",
    "def most_popular_word():\n",
    "\n",
    "    ps = PorterStemmer()\n",
    "\n",
    "    popWordDict = defaultdict(int)\n",
    "\n",
    "\n",
    "    for entry in animedata:\n",
    "        title = ''.join([c for c in entry['name'].lower() if not c in string.punctuation])\n",
    "        for w in title.split():\n",
    "            if w not in stopwords.words('english') and w not in japanese_stopwords and w not in number:\n",
    "                popWordDict[w] += 1\n",
    "\n",
    "    popWord = []\n",
    "    for w in popWordDict:\n",
    "        popWord.append([popWordDict[w],w])\n",
    "    popWord.sort()\n",
    "    popWord.reverse()\n",
    "    \n",
    "    return popWord"
   ]
  },
  {
   "cell_type": "code",
   "execution_count": 42,
   "metadata": {},
   "outputs": [],
   "source": [
    "# Average number of members by genres\n",
    "# Average ratings by genre\n",
    "\n",
    "# construct average numbers by genre and average rating by genre\n",
    "\n",
    "def get_average_members_by_genre():\n",
    "\n",
    "    average_member_by_genres = defaultdict(int)\n",
    "    \n",
    "    for entry in animedata:\n",
    "        members = entry['members']\n",
    "        genres = []\n",
    "        for genre in entry['genre']:\n",
    "            average_member_by_genres[genre] += members\n",
    "            \n",
    "    genreCount = get_genreCount(animedata)\n",
    "\n",
    "    for genre in average_member_by_genres:\n",
    "        average_member_by_genres[genre] /= genreCount[genre]\n",
    "        \n",
    "    return average_member_by_genres\n"
   ]
  },
  {
   "cell_type": "code",
   "execution_count": 43,
   "metadata": {},
   "outputs": [],
   "source": [
    "def get_average_rating_by_genre():\n",
    "    \n",
    "    average_rating_by_genres = defaultdict(int)\n",
    "\n",
    "    for entry in animedata:\n",
    "        ratings = entry['rating']\n",
    "        genres = []\n",
    "        for genre in entry['genre']:\n",
    "            average_rating_by_genres[genre] += ratings\n",
    "            \n",
    "    genreCount = get_genreCount(animedata)\n",
    "\n",
    "    for genre in average_rating_by_genres:\n",
    "        average_rating_by_genres[genre] /= genreCount[genre]\n",
    "        \n",
    "    return average_rating_by_genres"
   ]
  },
  {
   "cell_type": "code",
   "execution_count": null,
   "metadata": {},
   "outputs": [],
   "source": []
  },
  {
   "cell_type": "code",
   "execution_count": 44,
   "metadata": {
    "collapsed": true
   },
   "outputs": [],
   "source": [
    "def write_average_rating_by_genre():\n",
    "\n",
    "    arbg = open('average_rating_by_genres.csv', 'w')\n",
    "\n",
    "    arbg.write(\"Genre\\tAverage Rating\\n\")\n",
    "    \n",
    "    average_rating_by_genres = get_average_rating_by_genre()\n",
    "    \n",
    "    for l in average_rating_by_genres:\n",
    "        if l != '':\n",
    "            arbg.write(l + \"\\t\"+ str(average_rating_by_genres[l]) + \"\\n\")\n",
    "\n",
    "    arbg.close()"
   ]
  },
  {
   "cell_type": "code",
   "execution_count": 45,
   "metadata": {
    "collapsed": true
   },
   "outputs": [],
   "source": [
    "def write_popular_word():\n",
    "\n",
    "    pw = open('popular_words.csv', 'w')\n",
    "\n",
    "    pw.write(\"word\\tcount\\n\")\n",
    "    popWord = most_popular_words()\n",
    "    for l in popWord:\n",
    "        pw.write(str(l[1]) + \"\\t\"+ str(l[0]) + \"\\n\")\n",
    "\n",
    "    pw.close()"
   ]
  },
  {
   "cell_type": "code",
   "execution_count": 46,
   "metadata": {
    "collapsed": true
   },
   "outputs": [],
   "source": [
    "def write_average_member_by_genre():\n",
    "\n",
    "    ambg = open('average_member_by_genres.csv', 'w')\n",
    "\n",
    "    ambg.write(\"Genre\\tAverage Rating\\n\")\n",
    "    \n",
    "    average_member_by_genres = get_average_members_by_genre()\n",
    "    for l in average_member_by_genres:\n",
    "        if l != '':\n",
    "            ambg.write(l + \"\\t\"+ str(average_member_by_genres[l]) + \"\\n\")\n",
    "\n",
    "    ambg.close()"
   ]
  },
  {
   "cell_type": "code",
   "execution_count": null,
   "metadata": {
    "collapsed": true
   },
   "outputs": [],
   "source": []
  }
 ],
 "metadata": {
  "kernelspec": {
   "display_name": "Python 3",
   "language": "python",
   "name": "python3"
  },
  "language_info": {
   "codemirror_mode": {
    "name": "ipython",
    "version": 3
   },
   "file_extension": ".py",
   "mimetype": "text/x-python",
   "name": "python",
   "nbconvert_exporter": "python",
   "pygments_lexer": "ipython3",
   "version": "3.6.2"
  }
 },
 "nbformat": 4,
 "nbformat_minor": 2
}
