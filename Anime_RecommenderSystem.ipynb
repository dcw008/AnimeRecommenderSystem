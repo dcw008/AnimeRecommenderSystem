{
 "cells": [
  {
   "cell_type": "code",
   "execution_count": 84,
   "metadata": {
    "collapsed": true,
    "scrolled": false
   },
   "outputs": [],
   "source": [
    "import csv\n",
    "from collections import defaultdict\n",
    "\n",
    "toJson = open('anime.json', 'w')\n",
    "count = 0\n",
    "toJson.write('[')\n",
    "with open('anime.csv') as csvDataFile:\n",
    "    csvReader = csv.reader(csvDataFile)\n",
    "    for row in csvReader:\n",
    "        if row[0] == 'anime_id':\n",
    "            continue\n",
    "        \n",
    "        \n",
    "        genre_list = row[2].split(',')\n",
    "        genres = '['\n",
    "        for g in range(len(genre_list)):\n",
    "            genre = genre_list[g].replace(\" \", \"\")\n",
    "            genres += '\"'\n",
    "            genres += genre\n",
    "            if g != len(genre_list)-1:\n",
    "                genres += '\",'\n",
    "            else:\n",
    "                genres += '\"]'\n",
    "                \n",
    "        rating = row[5]\n",
    "        if rating == '':\n",
    "            rating = -1\n",
    "        \n",
    "        if (count != 0):\n",
    "            toJson.write(',\\n')\n",
    "        \n",
    "        toJson.write('{ \"anime_id\" : \"' + str(row[0]) + '\", \"name\" : \"' + str(row[1]) + '\", \"genre\" : '\n",
    "              + str(genres) + ', \"type\" : \"' + str(row[3]) + '\", \"episodes\" : \"'\n",
    "              + str(row[4]) + '\", \"rating\" : ' + str(rating) + ', \"members\" : ' + str(row[6]) + '}')\n",
    "        \n",
    "        count += 1\n",
    "    \n",
    "toJson.write(']')\n",
    "toJson.close()"
   ]
  },
  {
   "cell_type": "code",
   "execution_count": 20,
   "metadata": {
    "collapsed": true
   },
   "outputs": [],
   "source": [
    "import json\n",
    "\n",
    "rating = json.load(open('rating_200k.json'))\n",
    "animedata = json.load(open('anime.json'))\n"
   ]
  },
  {
   "cell_type": "code",
   "execution_count": 21,
   "metadata": {
    "collapsed": true
   },
   "outputs": [],
   "source": [
    "from collections import defaultdict\n",
    "\n",
    "watched = defaultdict(set)\n",
    "rating_by_user = defaultdict(list)    # list of animes with rating that each user watched\n",
    "rating_by_anime = defaultdict(list)    # list of dictionary with anime as keys, and containing user and ratings\n",
    "\n",
    "\n",
    "for entry in rating:\n",
    "    watched[entry['user_id']].add(entry['anime_id'])\n",
    "    \n",
    "    anime_dict = {}\n",
    "    if (entry['rating'] != '-1'):\n",
    "        anime_dict['anime_id'] = entry['anime_id']\n",
    "        anime_dict['rating'] = entry['rating']\n",
    "        rating_by_user[entry['user_id']].append(anime_dict)\n",
    "    \n",
    "    user_dict = {}\n",
    "    if (entry['rating'] != '-1'):\n",
    "        user_dict['rating'] = entry['rating']\n",
    "        user_dict['user_id'] = entry['user_id'] \n",
    "        rating_by_anime[entry['anime_id']].append(user_dict)\n",
    "    \n",
    "    \n",
    "    \n",
    "    \n",
    "    \n",
    "   "
   ]
  },
  {
   "cell_type": "code",
   "execution_count": null,
   "metadata": {
    "collapsed": true
   },
   "outputs": [],
   "source": []
  },
  {
   "cell_type": "code",
   "execution_count": 22,
   "metadata": {
    "collapsed": true
   },
   "outputs": [],
   "source": [
    "genres = set()    # set of all genres\n",
    "genreCount = defaultdict(int)     # count of each genre\n",
    "\n",
    "for entry in animedata:\n",
    "    for genre in entry['genre']:\n",
    "        genres.add(genre)\n",
    "        genreCount[genre] += 1"
   ]
  },
  {
   "cell_type": "code",
   "execution_count": 23,
   "metadata": {
    "collapsed": true
   },
   "outputs": [],
   "source": [
    "anime_view_dict = defaultdict(list)     # list of users that watched certain anime\n",
    "\n",
    "for entry in rating:\n",
    "    anime_id = entry['anime_id']\n",
    "    user_id = entry['user_id']\n",
    "    anime_view_dict[anime_id].append(user_id)"
   ]
  },
  {
   "cell_type": "code",
   "execution_count": 24,
   "metadata": {
    "collapsed": true
   },
   "outputs": [],
   "source": [
    "genre_by_anime = defaultdict(list)      # list of animes corresponding to certain genre\n",
    "\n",
    "for entry in animedata: \n",
    "    for genre in entry['genre']:\n",
    "        genre_by_anime[genre].append(entry['anime_id'])"
   ]
  },
  {
   "cell_type": "code",
   "execution_count": null,
   "metadata": {
    "collapsed": true
   },
   "outputs": [],
   "source": [
    "\n"
   ]
  },
  {
   "cell_type": "code",
   "execution_count": 25,
   "metadata": {
    "collapsed": true
   },
   "outputs": [],
   "source": [
    "average_rating_by_user = defaultdict(float)\n",
    "\n",
    "for user in rating_by_user:\n",
    "    \n",
    "    animes = rating_by_user[user]\n",
    "    total = 0\n",
    "    count = 0\n",
    "    \n",
    "    for anime in animes:    \n",
    "        total += float(anime['rating'])\n",
    "        count += 1\n",
    "            \n",
    "    if count != 0:\n",
    "        average_rating_by_user[user] = total / count\n",
    "        \n",
    "        "
   ]
  },
  {
   "cell_type": "code",
   "execution_count": 26,
   "metadata": {
    "collapsed": true
   },
   "outputs": [],
   "source": [
    "beta_u = defaultdict(float)\n",
    "\n",
    "total = 0\n",
    "count = 0\n",
    "for user in average_rating_by_user:\n",
    "    total += average_rating_by_user[user]\n",
    "    count += 1\n",
    "    \n",
    "total_average_rating_byuser = total / count\n",
    "\n",
    "for user in average_rating_by_user:\n",
    "    beta_u[user] = average_rating_by_user[user] - total_average_rating_byuser"
   ]
  },
  {
   "cell_type": "code",
   "execution_count": 27,
   "metadata": {
    "collapsed": true
   },
   "outputs": [],
   "source": [
    "anime_average_rating = defaultdict(float)      # average rating of each anime\n",
    "\n",
    "for entry in animedata:\n",
    "    if (entry['rating'] != -1 and entry['rating'] != 0):\n",
    "        anime_average_rating[entry['anime_id']] = entry['rating']"
   ]
  },
  {
   "cell_type": "code",
   "execution_count": 28,
   "metadata": {
    "collapsed": true
   },
   "outputs": [],
   "source": [
    "beta_i = defaultdict(float)\n",
    "\n",
    "total = 0\n",
    "count = 0\n",
    "for anime in anime_average_rating:\n",
    "    total += anime_average_rating[anime]\n",
    "    count += 1\n",
    "    \n",
    "total_average_rating_byanime = total / count\n",
    "\n",
    "for anime in anime_average_rating:\n",
    "    beta_i[anime] = anime_average_rating[anime] - total_average_rating_byanime"
   ]
  },
  {
   "cell_type": "code",
   "execution_count": 29,
   "metadata": {
    "collapsed": true
   },
   "outputs": [],
   "source": [
    "alpha = anime_average_rating"
   ]
  },
  {
   "cell_type": "code",
   "execution_count": 30,
   "metadata": {
    "collapsed": true
   },
   "outputs": [],
   "source": [
    "# Make a train / validation set\n",
    "\n",
    "rating_filtered = []\n",
    "for entry in rating:\n",
    "    if (entry['rating'] != '-1'):\n",
    "        rating_filtered.append(entry)"
   ]
  },
  {
   "cell_type": "code",
   "execution_count": 31,
   "metadata": {},
   "outputs": [],
   "source": [
    "# Approach 1\n",
    "\n",
    "# rating_filtered"
   ]
  },
  {
   "cell_type": "code",
   "execution_count": 32,
   "metadata": {
    "collapsed": true
   },
   "outputs": [],
   "source": [
    "# Approach 2\n",
    "\n",
    "import random\n",
    "\n",
    "def scrambled(orig):\n",
    "    dest = orig[:]\n",
    "    random.shuffle(dest)\n",
    "    return dest\n",
    "\n",
    "rating_scrambled = scrambled(rating_filtered)"
   ]
  },
  {
   "cell_type": "code",
   "execution_count": 33,
   "metadata": {
    "collapsed": true
   },
   "outputs": [],
   "source": [
    "# Approach 3\n",
    "\n",
    "rating_toModify = rating_filtered[:]\n",
    "\n",
    "current_user_id = 1\n",
    "rating_3 = []\n",
    "\n",
    "checknumber = 150000\n",
    "\n",
    "while(len(rating_toModify) > 3000):\n",
    "    \n",
    "    for j in range(0,len(rating_toModify)-1):\n",
    "\n",
    "        if j >= len(rating_toModify)-1:\n",
    "            break\n",
    "        \n",
    "        this_rating = rating_toModify[j]\n",
    "        current_user_id_str = str(current_user_id)\n",
    "        \n",
    "        if this_rating['user_id'] == current_user_id_str:\n",
    "\n",
    "            rating_3.append(this_rating)\n",
    "            rating_toModify.pop(j)\n",
    "            current_user_id += 1\n",
    "            \n",
    "        if int(this_rating['user_id']) > current_user_id:\n",
    "            current_user_id += 1\n",
    "            \n",
    "        \n",
    "\n",
    "    if current_user_id >= 2012:\n",
    "        current_user_id = 1\n",
    "    \n",
    "remaining = rating_toModify[:]\n",
    "rating_3 = rating_3 + remaining"
   ]
  },
  {
   "cell_type": "code",
   "execution_count": 156,
   "metadata": {
    "collapsed": true
   },
   "outputs": [],
   "source": [
    "# writeFile = open('ratingset_1.json', 'w')\n",
    "# for entry in rating_filtered:\n",
    "#     writeFile.write(str(entry))\n",
    "    \n",
    "# writeFile.close()\n",
    "\n",
    "# writeFile = open('ratingset_2.json', 'w')\n",
    "# for entry in rating_scrambled:\n",
    "#     writeFile.write(str(entry))\n",
    "    \n",
    "# writeFile.close()\n",
    "\n",
    "# writeFile = open('ratingset_3.json', 'w')\n",
    "# for entry in rating_3:\n",
    "#     writeFile.write(str(entry))\n",
    "    \n",
    "# writeFile.close()\n"
   ]
  },
  {
   "cell_type": "code",
   "execution_count": 41,
   "metadata": {},
   "outputs": [],
   "source": [
    "rating_3 = rating_3[:150000]"
   ]
  },
  {
   "cell_type": "code",
   "execution_count": 42,
   "metadata": {},
   "outputs": [
    {
     "data": {
      "text/plain": [
       "150000"
      ]
     },
     "execution_count": 42,
     "metadata": {},
     "output_type": "execute_result"
    }
   ],
   "source": [
    "len(rating_3)"
   ]
  },
  {
   "cell_type": "code",
   "execution_count": 43,
   "metadata": {
    "collapsed": true
   },
   "outputs": [],
   "source": [
    "# Collaborative Filtering + Regression for rating prediction\n",
    "# Collaborative Filtering for watch prediction (in case we can't figure out how to do rating prediction)\n",
    "# Basic model for latent factor model\n",
    "# How to optimize\n",
    "\n",
    "### Graph\n",
    "# rating according to genre\n",
    "# rating according to types (Movie/OVA/TV Series)\n",
    "# rating according to number of members\n",
    "# Most popular word occuring in title\n",
    "# Average number of members by genres\n"
   ]
  },
  {
   "cell_type": "code",
   "execution_count": 46,
   "metadata": {},
   "outputs": [
    {
     "data": {
      "text/plain": [
       "[{'anime_id': '32281',\n",
       "  'episodes': '1',\n",
       "  'genre': ['Drama', 'Romance', 'School', 'Supernatural'],\n",
       "  'members': 200630,\n",
       "  'name': 'Kimi no Na wa.',\n",
       "  'rating': 9.37,\n",
       "  'type': 'Movie'},\n",
       " {'anime_id': '5114',\n",
       "  'episodes': '64',\n",
       "  'genre': ['Action',\n",
       "   'Adventure',\n",
       "   'Drama',\n",
       "   'Fantasy',\n",
       "   'Magic',\n",
       "   'Military',\n",
       "   'Shounen'],\n",
       "  'members': 793665,\n",
       "  'name': 'Fullmetal Alchemist: Brotherhood',\n",
       "  'rating': 9.26,\n",
       "  'type': 'TV'},\n",
       " {'anime_id': '28977',\n",
       "  'episodes': '51',\n",
       "  'genre': ['Action',\n",
       "   'Comedy',\n",
       "   'Historical',\n",
       "   'Parody',\n",
       "   'Samurai',\n",
       "   'Sci-Fi',\n",
       "   'Shounen'],\n",
       "  'members': 114262,\n",
       "  'name': 'Gintama°',\n",
       "  'rating': 9.25,\n",
       "  'type': 'TV'},\n",
       " {'anime_id': '9253',\n",
       "  'episodes': '24',\n",
       "  'genre': ['Sci-Fi', 'Thriller'],\n",
       "  'members': 673572,\n",
       "  'name': 'Steins;Gate',\n",
       "  'rating': 9.17,\n",
       "  'type': 'TV'},\n",
       " {'anime_id': '9969',\n",
       "  'episodes': '51',\n",
       "  'genre': ['Action',\n",
       "   'Comedy',\n",
       "   'Historical',\n",
       "   'Parody',\n",
       "   'Samurai',\n",
       "   'Sci-Fi',\n",
       "   'Shounen'],\n",
       "  'members': 151266,\n",
       "  'name': 'Gintama&#039;',\n",
       "  'rating': 9.16,\n",
       "  'type': 'TV'},\n",
       " {'anime_id': '32935',\n",
       "  'episodes': '10',\n",
       "  'genre': ['Comedy', 'Drama', 'School', 'Shounen', 'Sports'],\n",
       "  'members': 93351,\n",
       "  'name': 'Haikyuu!!: Karasuno Koukou VS Shiratorizawa Gakuen Koukou',\n",
       "  'rating': 9.15,\n",
       "  'type': 'TV'},\n",
       " {'anime_id': '11061',\n",
       "  'episodes': '148',\n",
       "  'genre': ['Action', 'Adventure', 'Shounen', 'SuperPower'],\n",
       "  'members': 425855,\n",
       "  'name': 'Hunter x Hunter (2011)',\n",
       "  'rating': 9.13,\n",
       "  'type': 'TV'},\n",
       " {'anime_id': '820',\n",
       "  'episodes': '110',\n",
       "  'genre': ['Drama', 'Military', 'Sci-Fi', 'Space'],\n",
       "  'members': 80679,\n",
       "  'name': 'Ginga Eiyuu Densetsu',\n",
       "  'rating': 9.11,\n",
       "  'type': 'OVA'},\n",
       " {'anime_id': '15335',\n",
       "  'episodes': '1',\n",
       "  'genre': ['Action',\n",
       "   'Comedy',\n",
       "   'Historical',\n",
       "   'Parody',\n",
       "   'Samurai',\n",
       "   'Sci-Fi',\n",
       "   'Shounen'],\n",
       "  'members': 72534,\n",
       "  'name': 'Gintama Movie: Kanketsu-hen - Yorozuya yo Eien Nare',\n",
       "  'rating': 9.1,\n",
       "  'type': 'Movie'},\n",
       " {'anime_id': '15417',\n",
       "  'episodes': '13',\n",
       "  'genre': ['Action',\n",
       "   'Comedy',\n",
       "   'Historical',\n",
       "   'Parody',\n",
       "   'Samurai',\n",
       "   'Sci-Fi',\n",
       "   'Shounen'],\n",
       "  'members': 81109,\n",
       "  'name': 'Gintama&#039;: Enchousen',\n",
       "  'rating': 9.11,\n",
       "  'type': 'TV'}]"
      ]
     },
     "execution_count": 46,
     "metadata": {},
     "output_type": "execute_result"
    }
   ],
   "source": [
    "animedata[:10]"
   ]
  },
  {
   "cell_type": "code",
   "execution_count": null,
   "metadata": {
    "collapsed": true
   },
   "outputs": [],
   "source": []
  }
 ],
 "metadata": {
  "kernelspec": {
   "display_name": "Python 3",
   "language": "python",
   "name": "python3"
  },
  "language_info": {
   "codemirror_mode": {
    "name": "ipython",
    "version": 3
   },
   "file_extension": ".py",
   "mimetype": "text/x-python",
   "name": "python",
   "nbconvert_exporter": "python",
   "pygments_lexer": "ipython3",
   "version": "3.6.2"
  }
 },
 "nbformat": 4,
 "nbformat_minor": 2
}
