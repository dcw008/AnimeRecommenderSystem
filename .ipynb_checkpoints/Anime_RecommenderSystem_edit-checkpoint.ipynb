{
 "cells": [
  {
   "cell_type": "markdown",
   "metadata": {
    "collapsed": true,
    "scrolled": false
   },
   "source": [
    "import csv\n",
    "from collections import defaultdict\n",
    "\n",
    "toJson = open('anime.json', 'w')\n",
    "count = 0\n",
    "toJson.write('[')\n",
    "with open('anime.csv') as csvDataFile:\n",
    "    csvReader = csv.reader(csvDataFile)\n",
    "    for row in csvReader:\n",
    "        if row[0] == 'anime_id':\n",
    "            continue\n",
    "        \n",
    "        \n",
    "        genre_list = row[2].split(',')\n",
    "        genres = '['\n",
    "        for g in range(len(genre_list)):\n",
    "            genre = genre_list[g].replace(\" \", \"\")\n",
    "            genres += '\"'\n",
    "            genres += genre\n",
    "            if g != len(genre_list)-1:\n",
    "                genres += '\",'\n",
    "            else:\n",
    "                genres += '\"]'\n",
    "                \n",
    "        rating = row[5]\n",
    "        if rating == '':\n",
    "            rating = -1\n",
    "        \n",
    "        if (count != 0):\n",
    "            toJson.write(',\\n')\n",
    "        \n",
    "        toJson.write('{ \"anime_id\" : \"' + str(row[0]) + '\", \"name\" : \"' + str(row[1]) + '\", \"genre\" : '\n",
    "              + str(genres) + ', \"type\" : \"' + str(row[3]) + '\", \"episodes\" : \"'\n",
    "              + str(row[4]) + '\", \"rating\" : ' + str(rating) + ', \"members\" : ' + str(row[6]) + '}')\n",
    "        \n",
    "        count += 1\n",
    "    \n",
    "toJson.write(']')\n",
    "toJson.close()"
   ]
  },
  {
   "cell_type": "code",
   "execution_count": 20,
   "metadata": {
    "collapsed": true
   },
   "outputs": [],
   "source": [
    "from collections import defaultdict"
   ]
  },
  {
   "cell_type": "code",
   "execution_count": 12,
   "metadata": {
    "collapsed": false
   },
   "outputs": [],
   "source": [
    "# import data\n",
    "\n",
    "import json\n",
    "\n",
    "rating = json.load(open('rating_200k.json', encoding='utf8'))\n",
    "animedata = json.load(open('anime.json', encoding='utf8'))\n"
   ]
  },
  {
   "cell_type": "code",
   "execution_count": 13,
   "metadata": {
    "collapsed": true
   },
   "outputs": [],
   "source": [
    "# Make a train / validation set\n",
    "\n",
    "# Filter rating of '-1' in rating dataset\n",
    "\n",
    "rating_filtered = []\n",
    "for entry in rating:\n",
    "    if (entry['rating'] != '-1'):\n",
    "        rating_filtered.append(entry)"
   ]
  },
  {
   "cell_type": "code",
   "execution_count": 14,
   "metadata": {
    "collapsed": true
   },
   "outputs": [],
   "source": [
    "# Approach 2 (scrambled dataset)\n",
    "\n",
    "import random\n",
    "\n",
    "def scrambled(orig):\n",
    "    dest = orig[:]\n",
    "    random.shuffle(dest)\n",
    "    return dest\n",
    "\n",
    "rating_scrambled = scrambled(rating_filtered)"
   ]
  },
  {
   "cell_type": "code",
   "execution_count": 15,
   "metadata": {
    "collapsed": true
   },
   "outputs": [],
   "source": [
    "# Approach 3 (evenly distributed dataset)\n",
    "\n",
    "def build_rating_dataset():\n",
    "\n",
    "    rating_toModify = rating_filtered[:]\n",
    "\n",
    "    current_user_id = 1\n",
    "    rating_3 = []\n",
    "\n",
    "    checknumber = 150000\n",
    "\n",
    "    while(len(rating_toModify) > 3000):\n",
    "\n",
    "        for j in range(0,len(rating_toModify)-1):\n",
    "\n",
    "            if j >= len(rating_toModify)-1:\n",
    "                break\n",
    "\n",
    "            this_rating = rating_toModify[j]\n",
    "            current_user_id_str = str(current_user_id)\n",
    "\n",
    "            if this_rating['user_id'] == current_user_id_str:\n",
    "\n",
    "                rating_3.append(this_rating)\n",
    "                rating_toModify.pop(j)\n",
    "                current_user_id += 1\n",
    "\n",
    "            if int(this_rating['user_id']) > current_user_id:\n",
    "                current_user_id += 1\n",
    "\n",
    "\n",
    "\n",
    "        if current_user_id >= 2012:\n",
    "            current_user_id = 1\n",
    "\n",
    "    remaining = rating_toModify[:]\n",
    "    rating_3 = rating_3 + remaining\n",
    "    rating_3 = rating_3[:150000]\n",
    "    \n",
    "    return rating_3"
   ]
  },
  {
   "cell_type": "code",
   "execution_count": 16,
   "metadata": {
    "collapsed": true
   },
   "outputs": [],
   "source": [
    "rating_3 = build_rating_dataset()"
   ]
  },
  {
   "cell_type": "code",
   "execution_count": 22,
   "metadata": {
    "collapsed": true
   },
   "outputs": [],
   "source": [
    "# separate train/validation by half\n",
    "\n",
    "data_size = 75000\n",
    "training_set = rating_3[:data_size]\n",
    "validation_set = rating_3[data_size:]"
   ]
  },
  {
   "cell_type": "code",
   "execution_count": 21,
   "metadata": {
    "collapsed": false
   },
   "outputs": [],
   "source": [
    "# constructing latent factor model\n",
    "\n",
    "beta_u = defaultdict(float)\n",
    "beta_i = defaultdict(float)\n",
    "alpha = defaultdict(float)\n",
    "\n",
    "\n",
    "# This function constructs beta_u, beta_i, alpha for latent factor model\n",
    "\n",
    "def construct_latent_factor_model():\n",
    "\n",
    "    rating_by_user = defaultdict(list)    # list of animes with rating that each user watched\n",
    "    rating_by_anime = defaultdict(list)    # list of dictionary with anime as keys, and containing user and ratings\n",
    "    \n",
    "    for entry in training_set:\n",
    "\n",
    "        anime_dict = {}\n",
    "        if (entry['rating'] != '-1'):\n",
    "            anime_dict['anime_id'] = entry['anime_id']\n",
    "            anime_dict['rating'] = entry['rating']\n",
    "            rating_by_user[entry['user_id']].append(anime_dict)\n",
    "\n",
    "        user_dict = {}\n",
    "        if (entry['rating'] != '-1'):\n",
    "            user_dict['rating'] = entry['rating']\n",
    "            user_dict['user_id'] = entry['user_id'] \n",
    "            rating_by_anime[entry['anime_id']].append(user_dict)\n",
    "            \n",
    "\n",
    "            \n",
    "    # calculating average ratings by user        \n",
    "    \n",
    "    average_rating_by_user = defaultdict(float)\n",
    "    \n",
    "    for user in rating_by_user:\n",
    "\n",
    "        animes = rating_by_user[user]\n",
    "        total_rating = 0\n",
    "        count = 0\n",
    "\n",
    "        for anime in animes:    \n",
    "            total_rating += float(anime['rating'])\n",
    "            count += 1\n",
    "\n",
    "        if count != 0:\n",
    "            average_rating_by_user[user] = total_rating / count\n",
    "            \n",
    "\n",
    "    # constructing beta_u\n",
    "    \n",
    "    total_user_rating = 0\n",
    "    user_count = 0\n",
    "    \n",
    "    for user in average_rating_by_user:\n",
    "        total_user_rating += average_rating_by_user[user]\n",
    "        user_count += 1\n",
    "\n",
    "    total_average_rating_byuser = total_user_rating / user_count\n",
    "\n",
    "    for user in average_rating_by_user:\n",
    "        beta_u[user] = average_rating_by_user[user] - total_average_rating_byuser\n",
    "        \n",
    "        \n",
    "\n",
    "    # Calculating average rating by anime\n",
    "    \n",
    "    anime_average_rating = defaultdict(float)      # average rating of each anime\n",
    "\n",
    "    for entry in animedata:\n",
    "        if (entry['rating'] != -1 and entry['rating'] != 0):\n",
    "            anime_average_rating[entry['anime_id']] = entry['rating']\n",
    "            \n",
    "            \n",
    "    # Calculating beta_i\n",
    "\n",
    "    total_anime_rating = 0\n",
    "    anime_count = 0\n",
    "    for anime in anime_average_rating:\n",
    "        total_anime_rating += anime_average_rating[anime]\n",
    "        anime_count += 1\n",
    "\n",
    "    total_average_rating_byanime = total_anime_rating / anime_count\n",
    "\n",
    "    for anime in anime_average_rating:\n",
    "        beta_i[anime] = anime_average_rating[anime] - total_average_rating_byanime\n",
    "      \n",
    "    \n",
    "    # alpha\n",
    "    \n",
    "    alpha = anime_average_rating \n",
    "    \n"
   ]
  },
  {
   "cell_type": "code",
   "execution_count": 19,
   "metadata": {
    "collapsed": true
   },
   "outputs": [],
   "source": [
    "# construct_latent_factor_model()"
   ]
  },
  {
   "cell_type": "code",
   "execution_count": 28,
   "metadata": {
    "collapsed": true
   },
   "outputs": [],
   "source": [
    "reviewsPerUser = defaultdict(list)\n",
    "reviewsPerAnime = defaultdict(list)\n",
    "for r in training_set:\n",
    "    reviewsPerUser[r['user_id']].append(r)\n",
    "    reviewsPerAnime[r['anime_id']].append(r)"
   ]
  },
  {
   "cell_type": "code",
   "execution_count": 27,
   "metadata": {
    "collapsed": false
   },
   "outputs": [
    {
     "name": "stdout",
     "output_type": "stream",
     "text": [
      "Validation MSE (average only) = 2.3821633619539777\n"
     ]
    }
   ],
   "source": [
    "trainRatings = [int(r['rating']) for r in training_set]\n",
    "globalAverage = sum(trainRatings) * 1.0 / len(trainRatings)\n",
    "\n",
    "validMSE = 0\n",
    "for r in validation_set:\n",
    "    se = (int(r['rating']) - globalAverage)**2\n",
    "    validMSE += se\n",
    "\n",
    "validMSE /= len(validation_set)\n",
    "\n",
    "print(\"Validation MSE (average only) = \" + str(validMSE))"
   ]
  },
  {
   "cell_type": "code",
   "execution_count": 35,
   "metadata": {
    "collapsed": true
   },
   "outputs": [],
   "source": [
    "betaU = {}\n",
    "betaI = {}\n",
    "for u in reviewsPerUser:\n",
    "    betaU[u] = 0\n",
    "\n",
    "for i in reviewsPerAnime:\n",
    "    betaI[i] = 0\n",
    "\n",
    "\n",
    "alpha = globalAverage\n",
    "\n",
    "def iterate(lamb):\n",
    "    newAlpha = 0\n",
    "    for r in training_set:\n",
    "        newAlpha += int(r['rating']) - (betaU[r['user_id']] + betaI[r['anime_id']])\n",
    "    alpha = newAlpha / len(training_set)\n",
    "    for u in reviewsPerUser:\n",
    "        newBetaU = 0\n",
    "        for r in reviewsPerUser[u]:\n",
    "            newBetaU += int(r['rating']) - (alpha + betaI[r['anime_id']])\n",
    "        betaU[u] = newBetaU / (lamb + len(reviewsPerUser[u]))\n",
    "    for i in reviewsPerAnime:\n",
    "        newBetaI = 0\n",
    "        for r in reviewsPerAnime[i]:\n",
    "            newBetaI += int(r['rating']) - (alpha + betaU[r['user_id']])\n",
    "        betaI[i] = newBetaI / (lamb + len(reviewsPerAnime[i]))\n",
    "    mse = 0\n",
    "    for r in training_set:\n",
    "        prediction = alpha + betaU[r['user_id']] + betaI[r['anime_id']]\n",
    "        mse += (int(r['rating']) - prediction)**2\n",
    "    regularizer = 0\n",
    "    for u in betaU:\n",
    "        regularizer += betaU[u]**2\n",
    "    for i in betaI:\n",
    "        regularizer += betaI[i]**2\n",
    "    mse /= len(training_set)\n",
    "    return mse, mse + lamb*regularizer"
   ]
  },
  {
   "cell_type": "code",
   "execution_count": 36,
   "metadata": {
    "collapsed": false
   },
   "outputs": [],
   "source": [
    "# Fit with lambda = 1\n",
    "\n",
    "mse,objective = iterate(1)\n",
    "newMSE,newObjective = iterate(1)\n",
    "iterations = 2"
   ]
  },
  {
   "cell_type": "code",
   "execution_count": 39,
   "metadata": {
    "collapsed": false
   },
   "outputs": [
    {
     "data": {
      "text/plain": [
       "1.28656666699283"
      ]
     },
     "execution_count": 39,
     "metadata": {},
     "output_type": "execute_result"
    }
   ],
   "source": [
    "newMSE"
   ]
  },
  {
   "cell_type": "code",
   "execution_count": 40,
   "metadata": {
    "collapsed": false
   },
   "outputs": [
    {
     "name": "stdout",
     "output_type": "stream",
     "text": [
      "Objective after 3 iterations = 3228.0511697814236\n",
      "MSE after 3 iterations = 1.28366083158184\n",
      "Objective after 4 iterations = 3217.586167115622\n",
      "MSE after 4 iterations = 1.2831813921019253\n",
      "Objective after 5 iterations = 3197.5785408218544\n",
      "MSE after 5 iterations = 1.2829855327643789\n",
      "Objective after 6 iterations = 3176.958181441429\n",
      "MSE after 6 iterations = 1.282845196840438\n",
      "Objective after 7 iterations = 3157.6146143814462\n",
      "MSE after 7 iterations = 1.2827227355845745\n",
      "Objective after 8 iterations = 3139.858439039164\n",
      "MSE after 8 iterations = 1.2826101379168398\n",
      "Objective after 9 iterations = 3123.6516644346193\n",
      "MSE after 9 iterations = 1.2825052710085258\n",
      "Objective after 10 iterations = 3108.886099765721\n",
      "MSE after 10 iterations = 1.2824072933301904\n",
      "Objective after 11 iterations = 3095.4460692154175\n",
      "MSE after 11 iterations = 1.2823156693362294\n",
      "Objective after 12 iterations = 3083.2218579746022\n",
      "MSE after 12 iterations = 1.2822299515821656\n",
      "Objective after 13 iterations = 3072.111989183562\n",
      "MSE after 13 iterations = 1.2821497327579687\n",
      "Objective after 14 iterations = 3062.0230827665127\n",
      "MSE after 14 iterations = 1.2820746349845598\n",
      "Objective after 15 iterations = 3052.869271530655\n",
      "MSE after 15 iterations = 1.282004306796386\n",
      "Objective after 16 iterations = 3044.5715936778975\n",
      "MSE after 16 iterations = 1.281938421465237\n",
      "Objective after 17 iterations = 3037.0574347533848\n",
      "MSE after 17 iterations = 1.2818766754650912\n",
      "Objective after 18 iterations = 3030.2600220416125\n",
      "MSE after 18 iterations = 1.2818187869356739\n",
      "Objective after 19 iterations = 3024.117964113905\n",
      "MSE after 19 iterations = 1.2817644941768698\n",
      "Objective after 20 iterations = 3018.5748289891453\n",
      "MSE after 20 iterations = 1.2817135542090587\n",
      "Objective after 21 iterations = 3013.5787561658703\n",
      "MSE after 21 iterations = 1.2816657414170576\n",
      "Objective after 22 iterations = 3009.0820990395564\n",
      "MSE after 22 iterations = 1.2816208462836431\n",
      "Objective after 23 iterations = 3005.041094970552\n",
      "MSE after 23 iterations = 1.2815786742118362\n",
      "Objective after 24 iterations = 3001.4155607131033\n",
      "MSE after 24 iterations = 1.2815390444320187\n",
      "Objective after 25 iterations = 2998.1686112038424\n",
      "MSE after 25 iterations = 1.2815017889888682\n",
      "Objective after 26 iterations = 2995.266399908983\n",
      "MSE after 26 iterations = 1.2814667518027885\n",
      "Objective after 27 iterations = 2992.677879088943\n",
      "MSE after 27 iterations = 1.281433787800907\n",
      "Objective after 28 iterations = 2990.3745784725\n",
      "MSE after 28 iterations = 1.2814027621120254\n",
      "Objective after 29 iterations = 2988.3304009489025\n",
      "MSE after 29 iterations = 1.2813735493212939\n",
      "Objective after 30 iterations = 2986.5214339930144\n",
      "MSE after 30 iterations = 1.281346032780223\n",
      "Objective after 31 iterations = 2984.925775634393\n",
      "MSE after 31 iterations = 1.28132010396745\n",
      "Objective after 32 iterations = 2983.523373871197\n",
      "MSE after 32 iterations = 1.281295661897148\n",
      "Objective after 33 iterations = 2982.295878510865\n",
      "MSE after 33 iterations = 1.281272612571118\n",
      "Objective after 34 iterations = 2981.2265044961405\n",
      "MSE after 34 iterations = 1.2812508684713275\n",
      "Objective after 35 iterations = 2980.2999058453283\n",
      "MSE after 35 iterations = 1.2812303480903693\n",
      "Objective after 36 iterations = 2979.5020594004386\n",
      "MSE after 36 iterations = 1.281210975496179\n",
      "Objective after 37 iterations = 2978.820157637452\n",
      "MSE after 37 iterations = 1.2811926799293307\n",
      "Objective after 38 iterations = 2978.2425098483823\n",
      "MSE after 38 iterations = 1.2811753954299023\n",
      "Objective after 39 iterations = 2977.75845105745\n",
      "MSE after 39 iterations = 1.28115906049216\n",
      "Objective after 40 iterations = 2977.3582580797693\n",
      "MSE after 40 iterations = 1.2811436177443034\n",
      "Objective after 41 iterations = 2977.03307217758\n",
      "MSE after 41 iterations = 1.281129013652397\n",
      "Objective after 42 iterations = 2976.774827807893\n",
      "MSE after 42 iterations = 1.2811151982458857\n",
      "Objective after 43 iterations = 2976.5761869950134\n",
      "MSE after 43 iterations = 1.2811021248631793\n",
      "Objective after 44 iterations = 2976.430478895578\n",
      "MSE after 44 iterations = 1.2810897499164435\n",
      "Objective after 45 iterations = 2976.3316441569955\n",
      "MSE after 45 iterations = 1.2810780326732023\n",
      "Objective after 46 iterations = 2976.2741836996597\n",
      "MSE after 46 iterations = 1.2810669350544261\n",
      "Objective after 47 iterations = 2976.253111581917\n",
      "MSE after 47 iterations = 1.281056421447277\n",
      "Objective after 48 iterations = 2976.263911631854\n",
      "MSE after 48 iterations = 1.281046458531498\n"
     ]
    }
   ],
   "source": [
    "while iterations < 10 or objective - newObjective > 0.0001:\n",
    "    mse, objective = newMSE, newObjective\n",
    "    newMSE, newObjective = iterate(1)\n",
    "    iterations += 1\n",
    "    print(\"Objective after \" + str(iterations) + \" iterations = \" + str(newObjective))\n",
    "    print(\"MSE after \" + str(iterations) + \" iterations = \" + str(newMSE))"
   ]
  },
  {
   "cell_type": "code",
   "execution_count": 43,
   "metadata": {
    "collapsed": false
   },
   "outputs": [
    {
     "name": "stdout",
     "output_type": "stream",
     "text": [
      "Validation MSE = 1.6233153556704678\n"
     ]
    }
   ],
   "source": [
    "validMSE = 0\n",
    "for r in validation_set:\n",
    "    bu = 0\n",
    "    bi = 0\n",
    "    if r['user_id'] in betaU:\n",
    "        bu = betaU[r['user_id']]\n",
    "    if r['anime_id'] in betaI:\n",
    "        bi = betaI[r['anime_id']]\n",
    "    prediction = alpha + bu + bi\n",
    "    validMSE += (int(r['rating']) - prediction)**2\n",
    "\n",
    "validMSE /= len(validation_set)\n",
    "print(\"Validation MSE = \" + str(validMSE))"
   ]
  },
  {
   "cell_type": "code",
   "execution_count": 44,
   "metadata": {
    "collapsed": false
   },
   "outputs": [
    {
     "name": "stdout",
     "output_type": "stream",
     "text": [
      "Maximum betaU = 355 (2.393423203953614\n",
      "Maximum betaI = 1657 (2.5812923305684734\n"
     ]
    }
   ],
   "source": [
    "betaUs = [(betaU[u], u) for u in betaU]\n",
    "betaIs = [(betaI[i], i) for i in betaI]\n",
    "betaUs.sort()\n",
    "betaIs.sort()\n",
    "\n",
    "print(\"Maximum betaU = \" + str(betaUs[-1][1]) + ' (' + str(betaUs[-1][0]))\n",
    "print(\"Maximum betaI = \" + str(betaIs[-1][1]) + ' (' + str(betaIs[-1][0]))"
   ]
  },
  {
   "cell_type": "code",
   "execution_count": 54,
   "metadata": {
    "collapsed": true
   },
   "outputs": [
    {
     "name": "stdout",
     "output_type": "stream",
     "text": [
      "Objective after 2 iterations = 4446.84573735202\n",
      "MSE after 2 iterations = 1.2952563304264886\n",
      "Objective after 3 iterations = 4430.084907480185\n",
      "MSE after 3 iterations = 1.2954497819698485\n",
      "Objective after 4 iterations = 4427.317806053375\n",
      "MSE after 4 iterations = 1.2954839899719135\n",
      "Objective after 5 iterations = 4426.541388845339\n",
      "MSE after 5 iterations = 1.2954925344608312\n",
      "Objective after 6 iterations = 4426.155302262938\n",
      "MSE after 6 iterations = 1.2954960248952476\n",
      "Objective after 7 iterations = 4425.859533542219\n",
      "MSE after 7 iterations = 1.2954984198428852\n",
      "Objective after 8 iterations = 4425.590652652703\n",
      "MSE after 8 iterations = 1.2955005568198616\n",
      "Objective after 9 iterations = 4425.334483175804\n",
      "MSE after 9 iterations = 1.295502618919318\n",
      "Objective after 10 iterations = 4425.087692197122\n",
      "MSE after 10 iterations = 1.2955046450770789\n",
      "Objective after 11 iterations = 4424.849387282677\n",
      "MSE after 11 iterations = 1.2955066419585037\n",
      "Objective after 12 iterations = 4424.619223133764\n",
      "MSE after 12 iterations = 1.2955086091800034\n",
      "Objective after 13 iterations = 4424.396971826779\n",
      "MSE after 13 iterations = 1.2955105450309718\n",
      "Objective after 14 iterations = 4424.18242712231\n",
      "MSE after 14 iterations = 1.295512447744005\n",
      "Objective after 15 iterations = 4423.975384768662\n",
      "MSE after 15 iterations = 1.295514315751558\n",
      "Objective after 16 iterations = 4423.775639560476\n",
      "MSE after 16 iterations = 1.2955161477190829\n",
      "Objective after 17 iterations = 4423.582985750975\n",
      "MSE after 17 iterations = 1.2955179425330234\n",
      "Objective after 18 iterations = 4423.397217930269\n",
      "MSE after 18 iterations = 1.295519699282108\n",
      "Objective after 19 iterations = 4423.21813182643\n",
      "MSE after 19 iterations = 1.2955214172395066\n",
      "Objective after 20 iterations = 4423.045524968803\n",
      "MSE after 20 iterations = 1.2955230958464423\n",
      "Objective after 21 iterations = 4422.879197234962\n",
      "MSE after 21 iterations = 1.2955247346975354\n",
      "Objective after 22 iterations = 4422.718951304356\n",
      "MSE after 22 iterations = 1.2955263335270477\n",
      "Objective after 23 iterations = 4422.564593035651\n",
      "MSE after 23 iterations = 1.295527892196126\n",
      "Objective after 24 iterations = 4422.415931779735\n",
      "MSE after 24 iterations = 1.2955294106811825\n",
      "Objective after 25 iterations = 4422.272780636569\n",
      "MSE after 25 iterations = 1.2955308890627648\n",
      "Objective after 26 iterations = 4422.134956663428\n",
      "MSE after 26 iterations = 1.2955323275155861\n",
      "Objective after 27 iterations = 4422.0022810400005\n",
      "MSE after 27 iterations = 1.295533726298841\n",
      "Objective after 28 iterations = 4421.874579195592\n",
      "MSE after 28 iterations = 1.2955350857475747\n",
      "Objective after 29 iterations = 4421.751680903094\n",
      "MSE after 29 iterations = 1.2955364062644614\n",
      "Objective after 30 iterations = 4421.633420343629\n",
      "MSE after 30 iterations = 1.2955376883122338\n",
      "Objective after 31 iterations = 4421.5196361456965\n",
      "MSE after 31 iterations = 1.2955389324067652\n",
      "Objective after 32 iterations = 4421.410171401998\n",
      "MSE after 32 iterations = 1.2955401391104537\n",
      "Objective after 33 iterations = 4421.304873666811\n",
      "MSE after 33 iterations = 1.2955413090264691\n",
      "Objective after 34 iterations = 4421.2035949366145\n",
      "MSE after 34 iterations = 1.2955424427930267\n",
      "Objective after 35 iterations = 4421.106191616496\n",
      "MSE after 35 iterations = 1.2955435410784892\n",
      "Objective after 36 iterations = 4421.012524473791\n",
      "MSE after 36 iterations = 1.2955446045766397\n",
      "Objective after 37 iterations = 4420.92245858172\n",
      "MSE after 37 iterations = 1.2955456340024025\n",
      "Objective after 38 iterations = 4420.835863253749\n",
      "MSE after 38 iterations = 1.2955466300879226\n",
      "Objective after 39 iterations = 4420.7526119709755\n",
      "MSE after 39 iterations = 1.295547593579014\n",
      "Objective after 40 iterations = 4420.672582303138\n",
      "MSE after 40 iterations = 1.2955485252318673\n",
      "Objective after 41 iterations = 4420.59565582474\n",
      "MSE after 41 iterations = 1.2955494258101177\n",
      "Objective after 42 iterations = 4420.521718027389\n",
      "MSE after 42 iterations = 1.2955502960819523\n",
      "Objective after 43 iterations = 4420.450658228971\n",
      "MSE after 43 iterations = 1.2955511368179502\n",
      "Objective after 44 iterations = 4420.38236948037\n",
      "MSE after 44 iterations = 1.2955519487885938\n",
      "Objective after 45 iterations = 4420.316748470994\n",
      "MSE after 45 iterations = 1.2955527327624081\n",
      "Objective after 46 iterations = 4420.253695432886\n",
      "MSE after 46 iterations = 1.2955534895041085\n",
      "Objective after 47 iterations = 4420.193114044646\n",
      "MSE after 47 iterations = 1.2955542197729568\n",
      "Objective after 48 iterations = 4420.134911334986\n",
      "MSE after 48 iterations = 1.2955549243214084\n",
      "Objective after 49 iterations = 4420.078997586956\n",
      "MSE after 49 iterations = 1.2955556038937266\n",
      "Objective after 50 iterations = 4420.0252862424695\n",
      "MSE after 50 iterations = 1.2955562592248857\n",
      "Objective after 51 iterations = 4419.973693808124\n",
      "MSE after 51 iterations = 1.2955568910396424\n",
      "Objective after 52 iterations = 4419.924139761863\n",
      "MSE after 52 iterations = 1.2955575000515367\n",
      "Objective after 53 iterations = 4419.876546461115\n",
      "MSE after 53 iterations = 1.2955580869622412\n",
      "Objective after 54 iterations = 4419.830839052677\n",
      "MSE after 54 iterations = 1.2955586524607396\n",
      "Objective after 55 iterations = 4419.786945383815\n",
      "MSE after 55 iterations = 1.2955591972230718\n",
      "Objective after 56 iterations = 4419.744795915642\n",
      "MSE after 56 iterations = 1.295559721911683\n",
      "Objective after 57 iterations = 4419.70432363794\n",
      "MSE after 57 iterations = 1.2955602271749045\n",
      "Objective after 58 iterations = 4419.665463986204\n",
      "MSE after 58 iterations = 1.2955607136469431\n",
      "Objective after 59 iterations = 4419.628154760579\n",
      "MSE after 59 iterations = 1.29556118194749\n",
      "Objective after 60 iterations = 4419.592336046663\n",
      "MSE after 60 iterations = 1.2955616326815032\n",
      "Objective after 61 iterations = 4419.557950138652\n",
      "MSE after 61 iterations = 1.295562066439156\n",
      "Objective after 62 iterations = 4419.5249414642\n",
      "MSE after 62 iterations = 1.295562483795815\n",
      "Objective after 63 iterations = 4419.4932565117715\n",
      "MSE after 63 iterations = 1.2955628853118646\n",
      "Objective after 64 iterations = 4419.4628437595275\n",
      "MSE after 64 iterations = 1.2955632715329444\n",
      "Objective after 65 iterations = 4419.433653606541\n",
      "MSE after 65 iterations = 1.2955636429897412\n",
      "Objective after 66 iterations = 4419.405638306185\n",
      "MSE after 66 iterations = 1.2955640001983288\n",
      "Objective after 67 iterations = 4419.37875190114\n",
      "MSE after 67 iterations = 1.295564343660121\n",
      "Objective after 68 iterations = 4419.352950160501\n",
      "MSE after 68 iterations = 1.2955646738621456\n",
      "Objective after 69 iterations = 4419.328190519067\n",
      "MSE after 69 iterations = 1.295564991277112\n",
      "Objective after 70 iterations = 4419.304432018226\n",
      "MSE after 70 iterations = 1.2955652963636322\n",
      "Objective after 71 iterations = 4419.281635248614\n",
      "MSE after 71 iterations = 1.2955655895664333\n",
      "Objective after 72 iterations = 4419.2597622950725\n",
      "MSE after 72 iterations = 1.2955658713166212\n",
      "Objective after 73 iterations = 4419.238776682904\n",
      "MSE after 73 iterations = 1.2955661420319082\n",
      "Objective after 74 iterations = 4419.218643326115\n",
      "MSE after 74 iterations = 1.2955664021167985\n",
      "Objective after 75 iterations = 4419.19932847722\n",
      "MSE after 75 iterations = 1.295566651962878\n",
      "Objective after 76 iterations = 4419.1807996789075\n",
      "MSE after 76 iterations = 1.2955668919491836\n",
      "Objective after 77 iterations = 4419.1630257169345\n",
      "MSE after 77 iterations = 1.2955671224423064\n",
      "Objective after 78 iterations = 4419.145976575066\n",
      "MSE after 78 iterations = 1.2955673437968198\n",
      "Objective after 79 iterations = 4419.129623391223\n",
      "MSE after 79 iterations = 1.2955675563554694\n",
      "Objective after 80 iterations = 4419.113938415008\n",
      "MSE after 80 iterations = 1.2955677604495255\n",
      "Objective after 81 iterations = 4419.098894967197\n",
      "MSE after 81 iterations = 1.2955679563989866\n",
      "Objective after 82 iterations = 4419.08446739992\n",
      "MSE after 82 iterations = 1.2955681445129898\n",
      "Objective after 83 iterations = 4419.070631058772\n",
      "MSE after 83 iterations = 1.2955683250899792\n",
      "Objective after 84 iterations = 4419.057362246007\n",
      "MSE after 84 iterations = 1.2955684984180746\n",
      "Objective after 85 iterations = 4419.044638184833\n",
      "MSE after 85 iterations = 1.2955686647752935\n",
      "Objective after 86 iterations = 4419.032436985343\n",
      "MSE after 86 iterations = 1.2955688244299248\n",
      "Objective after 87 iterations = 4419.020737611381\n",
      "MSE after 87 iterations = 1.295568977640716\n",
      "Objective after 88 iterations = 4419.009519848522\n",
      "MSE after 88 iterations = 1.29556912465721\n",
      "Objective after 89 iterations = 4418.998764273344\n",
      "MSE after 89 iterations = 1.2955692657199558\n",
      "Objective after 90 iterations = 4418.98845222369\n",
      "MSE after 90 iterations = 1.2955694010609302\n",
      "Objective after 91 iterations = 4418.978565770001\n",
      "MSE after 91 iterations = 1.2955695309035766\n",
      "Objective after 92 iterations = 4418.969087687721\n",
      "MSE after 92 iterations = 1.2955696554632612\n",
      "Objective after 93 iterations = 4418.960001430463\n",
      "MSE after 93 iterations = 1.2955697749474373\n",
      "Objective after 94 iterations = 4418.951291104622\n",
      "MSE after 94 iterations = 1.2955698895559098\n",
      "Objective after 95 iterations = 4418.942941444262\n",
      "MSE after 95 iterations = 1.295569999481074\n",
      "Objective after 96 iterations = 4418.934937787409\n",
      "MSE after 96 iterations = 1.295570104908227\n",
      "Objective after 97 iterations = 4418.927266052989\n",
      "MSE after 97 iterations = 1.2955702060156775\n",
      "Objective after 98 iterations = 4418.919912718603\n",
      "MSE after 98 iterations = 1.295570302975129\n",
      "Objective after 99 iterations = 4418.912864799141\n",
      "MSE after 99 iterations = 1.2955703959516773\n",
      "Objective after 100 iterations = 4418.90610982625\n",
      "MSE after 100 iterations = 1.2955704851043406\n",
      "Objective after 101 iterations = 4418.899635828293\n",
      "MSE after 101 iterations = 1.2955705705859863\n",
      "Objective after 102 iterations = 4418.893431311457\n",
      "MSE after 102 iterations = 1.2955706525436999\n",
      "Objective after 103 iterations = 4418.887485241139\n",
      "MSE after 103 iterations = 1.2955707311189966\n",
      "Objective after 104 iterations = 4418.881787024188\n",
      "MSE after 104 iterations = 1.2955708064478304\n",
      "Objective after 105 iterations = 4418.87632649203\n",
      "MSE after 105 iterations = 1.2955708786610443\n",
      "Objective after 106 iterations = 4418.871093883861\n",
      "MSE after 106 iterations = 1.2955709478843707\n",
      "Objective after 107 iterations = 4418.866079831047\n",
      "MSE after 107 iterations = 1.2955710142387167\n",
      "Objective after 108 iterations = 4418.861275341824\n",
      "MSE after 108 iterations = 1.2955710778402276\n",
      "Objective after 109 iterations = 4418.856671786473\n",
      "MSE after 109 iterations = 1.2955711388006095\n",
      "Objective after 110 iterations = 4418.85226088337\n",
      "MSE after 110 iterations = 1.2955711972271469\n",
      "Objective after 111 iterations = 4418.848034685112\n",
      "MSE after 111 iterations = 1.295571253222853\n",
      "Objective after 112 iterations = 4418.843985565569\n",
      "MSE after 112 iterations = 1.2955713068868862\n",
      "Objective after 113 iterations = 4418.84010620742\n",
      "MSE after 113 iterations = 1.295571358314358\n",
      "Objective after 114 iterations = 4418.836389589622\n",
      "MSE after 114 iterations = 1.295571407596606\n",
      "Objective after 115 iterations = 4418.832828976006\n",
      "MSE after 115 iterations = 1.29557145482148\n",
      "Objective after 116 iterations = 4418.829417904035\n",
      "MSE after 116 iterations = 1.2955715000732073\n",
      "Objective after 117 iterations = 4418.826150173833\n",
      "MSE after 117 iterations = 1.29557154343282\n",
      "Objective after 118 iterations = 4418.823019837997\n",
      "MSE after 118 iterations = 1.2955715849779805\n",
      "Objective after 119 iterations = 4418.820021191355\n",
      "MSE after 119 iterations = 1.2955716247833116\n",
      "Objective after 120 iterations = 4418.817148761583\n",
      "MSE after 120 iterations = 1.2955716629204588\n",
      "Objective after 121 iterations = 4418.814397299686\n",
      "MSE after 121 iterations = 1.2955716994581954\n",
      "Objective after 122 iterations = 4418.811761771349\n",
      "MSE after 122 iterations = 1.295571734462509\n",
      "Objective after 123 iterations = 4418.809237348195\n",
      "MSE after 123 iterations = 1.2955717679967886\n",
      "Objective after 124 iterations = 4418.806819399693\n",
      "MSE after 124 iterations = 1.2955718001218017\n",
      "Objective after 125 iterations = 4418.804503485136\n",
      "MSE after 125 iterations = 1.2955718308958952\n",
      "Objective after 126 iterations = 4418.8022853461425\n",
      "MSE after 126 iterations = 1.2955718603750597\n",
      "Objective after 127 iterations = 4418.800160899157\n",
      "MSE after 127 iterations = 1.2955718886130507\n",
      "Objective after 128 iterations = 4418.798126228675\n",
      "MSE after 128 iterations = 1.29557191566131\n",
      "Objective after 129 iterations = 4418.796177580324\n",
      "MSE after 129 iterations = 1.2955719415694071\n",
      "Objective after 130 iterations = 4418.794311354361\n",
      "MSE after 130 iterations = 1.2955719663846983\n",
      "Objective after 131 iterations = 4418.792524099569\n",
      "MSE after 131 iterations = 1.2955719901526999\n",
      "Objective after 132 iterations = 4418.790812507101\n",
      "MSE after 132 iterations = 1.2955720129170876\n",
      "Objective after 133 iterations = 4418.789173404878\n",
      "MSE after 133 iterations = 1.2955720347197022\n",
      "Objective after 134 iterations = 4418.7876037519245\n",
      "MSE after 134 iterations = 1.295572055600656\n",
      "Objective after 135 iterations = 4418.786100633093\n",
      "MSE after 135 iterations = 1.2955720755985036\n",
      "Objective after 136 iterations = 4418.7846612540225\n",
      "MSE after 136 iterations = 1.2955720947501836\n",
      "Objective after 137 iterations = 4418.783282936085\n",
      "MSE after 137 iterations = 1.2955721130910185\n",
      "Objective after 138 iterations = 4418.781963111871\n",
      "MSE after 138 iterations = 1.2955721306550725\n",
      "Objective after 139 iterations = 4418.7806993205095\n",
      "MSE after 139 iterations = 1.2955721474748052\n",
      "Objective after 140 iterations = 4418.779489203425\n",
      "MSE after 140 iterations = 1.2955721635814912\n",
      "Objective after 141 iterations = 4418.778330500075\n",
      "MSE after 141 iterations = 1.295572179005048\n",
      "Objective after 142 iterations = 4418.777221044009\n",
      "MSE after 142 iterations = 1.295572193774111\n",
      "Objective after 143 iterations = 4418.776158758889\n",
      "MSE after 143 iterations = 1.295572207916213\n",
      "Objective after 144 iterations = 4418.775141655135\n",
      "MSE after 144 iterations = 1.295572221457764\n",
      "Objective after 145 iterations = 4418.774167825865\n",
      "MSE after 145 iterations = 1.2955722344239682\n",
      "Objective after 146 iterations = 4418.773235444009\n",
      "MSE after 146 iterations = 1.295572246839067\n",
      "Objective after 147 iterations = 4418.772342758699\n",
      "MSE after 147 iterations = 1.295572258726272\n",
      "Objective after 148 iterations = 4418.771488092236\n",
      "MSE after 148 iterations = 1.295572270107877\n",
      "Objective after 149 iterations = 4418.770669837072\n",
      "MSE after 149 iterations = 1.2955722810051562\n",
      "Objective after 150 iterations = 4418.769886452958\n",
      "MSE after 150 iterations = 1.2955722914385635\n",
      "Objective after 151 iterations = 4418.769136464148\n",
      "MSE after 151 iterations = 1.2955723014276743\n",
      "Objective after 152 iterations = 4418.768418456713\n",
      "MSE after 152 iterations = 1.295572310991281\n",
      "Objective after 153 iterations = 4418.767731076006\n",
      "MSE after 153 iterations = 1.2955723201473992\n",
      "Objective after 154 iterations = 4418.767073024172\n",
      "MSE after 154 iterations = 1.2955723289132008\n",
      "Objective after 155 iterations = 4418.766443057925\n",
      "MSE after 155 iterations = 1.2955723373052028\n",
      "Objective after 156 iterations = 4418.7658399861175\n",
      "MSE after 156 iterations = 1.295572345339266\n",
      "Objective after 157 iterations = 4418.7652626677345\n",
      "MSE after 157 iterations = 1.2955723530305308\n",
      "Objective after 158 iterations = 4418.76471000968\n",
      "MSE after 158 iterations = 1.2955723603935418\n",
      "Objective after 159 iterations = 4418.764180964848\n",
      "MSE after 159 iterations = 1.2955723674421877\n",
      "Objective after 160 iterations = 4418.763674530271\n",
      "MSE after 160 iterations = 1.2955723741897918\n",
      "Objective after 161 iterations = 4418.763189745191\n",
      "MSE after 161 iterations = 1.295572380649172\n",
      "Objective after 162 iterations = 4418.762725689316\n",
      "MSE after 162 iterations = 1.2955723868325253\n",
      "Objective after 163 iterations = 4418.762281481213\n",
      "MSE after 163 iterations = 1.2955723927516025\n",
      "Objective after 164 iterations = 4418.761856276581\n",
      "MSE after 164 iterations = 1.2955723984175855\n",
      "Objective after 165 iterations = 4418.761449266754\n",
      "MSE after 165 iterations = 1.2955724038412788\n",
      "Objective after 166 iterations = 4418.761059677249\n",
      "MSE after 166 iterations = 1.2955724090329745\n",
      "Objective after 167 iterations = 4418.760686766316\n",
      "MSE after 167 iterations = 1.295572414002513\n",
      "Objective after 168 iterations = 4418.760329823476\n",
      "MSE after 168 iterations = 1.2955724187593818\n",
      "Objective after 169 iterations = 4418.759988168383\n",
      "MSE after 169 iterations = 1.2955724233126171\n",
      "Objective after 170 iterations = 4418.759661149435\n",
      "MSE after 170 iterations = 1.2955724276708576\n",
      "Objective after 171 iterations = 4418.759348142626\n",
      "MSE after 171 iterations = 1.2955724318424695\n",
      "Objective after 172 iterations = 4418.759048550343\n",
      "MSE after 172 iterations = 1.295572435835369\n",
      "Objective after 173 iterations = 4418.758761800321\n",
      "MSE after 173 iterations = 1.2955724396571855\n",
      "Objective after 174 iterations = 4418.758487344573\n",
      "MSE after 174 iterations = 1.2955724433151925\n",
      "Objective after 175 iterations = 4418.758224658253\n",
      "MSE after 175 iterations = 1.2955724468163992\n",
      "Objective after 176 iterations = 4418.757973238868\n",
      "MSE after 176 iterations = 1.2955724501675017\n",
      "Objective after 177 iterations = 4418.757732605187\n",
      "MSE after 177 iterations = 1.2955724533749071\n",
      "Objective after 178 iterations = 4418.757502296484\n",
      "MSE after 178 iterations = 1.2955724564447084\n",
      "Objective after 179 iterations = 4418.757281871527\n",
      "MSE after 179 iterations = 1.2955724593828242\n",
      "Objective after 180 iterations = 4418.757070907793\n",
      "MSE after 180 iterations = 1.2955724621948514\n",
      "Objective after 181 iterations = 4418.756869000834\n",
      "MSE after 181 iterations = 1.2955724648862184\n",
      "Objective after 182 iterations = 4418.7566757633385\n",
      "MSE after 182 iterations = 1.2955724674620408\n",
      "Objective after 183 iterations = 4418.756490824429\n",
      "MSE after 183 iterations = 1.2955724699272584\n",
      "Objective after 184 iterations = 4418.756313829053\n",
      "MSE after 184 iterations = 1.295572472286626\n",
      "Objective after 185 iterations = 4418.756144437328\n",
      "MSE after 185 iterations = 1.2955724745446857\n",
      "Objective after 186 iterations = 4418.7559823236925\n",
      "MSE after 186 iterations = 1.2955724767057353\n",
      "Objective after 187 iterations = 4418.755827176559\n",
      "MSE after 187 iterations = 1.2955724787738987\n",
      "Objective after 188 iterations = 4418.755678697527\n",
      "MSE after 188 iterations = 1.2955724807532407\n",
      "Objective after 189 iterations = 4418.755536601031\n",
      "MSE after 189 iterations = 1.2955724826475135\n",
      "Objective after 190 iterations = 4418.7554006136315\n",
      "MSE after 190 iterations = 1.295572484460317\n",
      "Objective after 191 iterations = 4418.755270473504\n",
      "MSE after 191 iterations = 1.2955724861952598\n",
      "Objective after 192 iterations = 4418.755145930026\n",
      "MSE after 192 iterations = 1.295572487855554\n",
      "Objective after 193 iterations = 4418.755026743275\n",
      "MSE after 193 iterations = 1.2955724894444396\n",
      "Objective after 194 iterations = 4418.754912683556\n",
      "MSE after 194 iterations = 1.2955724909650252\n",
      "Objective after 195 iterations = 4418.754803530915\n",
      "MSE after 195 iterations = 1.2955724924201903\n",
      "Objective after 196 iterations = 4418.754699074949\n",
      "MSE after 196 iterations = 1.2955724938127566\n",
      "Objective after 197 iterations = 4418.754599114102\n",
      "MSE after 197 iterations = 1.2955724951453558\n"
     ]
    }
   ],
   "source": [
    "iterations = 1\n",
    "while iterations < 10 or objective - newObjective > 0.0001:\n",
    "    mse, objective = newMSE, newObjective\n",
    "    newMSE, newObjective = iterate(2)\n",
    "    iterations += 1\n",
    "    print(\"Objective after \" + str(iterations) + \" iterations = \" + str(newObjective))\n",
    "    print(\"MSE after \" + str(iterations) + \" iterations = \" + str(newMSE))"
   ]
  },
  {
   "cell_type": "code",
   "execution_count": 55,
   "metadata": {
    "collapsed": false
   },
   "outputs": [
    {
     "name": "stdout",
     "output_type": "stream",
     "text": [
      "Validation MSE = 1.5929691813033826\n"
     ]
    }
   ],
   "source": [
    "validMSE = 0\n",
    "for r in validation_set:\n",
    "    bu = 0\n",
    "    bi = 0\n",
    "    if r['user_id'] in betaU:\n",
    "        bu = betaU[r['user_id']]\n",
    "    if r['anime_id'] in betaI:\n",
    "        bi = betaI[r['anime_id']]\n",
    "    prediction = alpha + bu + bi\n",
    "    validMSE += (int(r['rating']) - prediction)**2\n",
    "\n",
    "validMSE /= len(validation_set)\n",
    "print(\"Validation MSE = \" + str(validMSE))"
   ]
  },
  {
   "cell_type": "code",
   "execution_count": null,
   "metadata": {
    "collapsed": true
   },
   "outputs": [],
   "source": []
  },
  {
   "cell_type": "code",
   "execution_count": null,
   "metadata": {
    "collapsed": true
   },
   "outputs": [],
   "source": []
  },
  {
   "cell_type": "code",
   "execution_count": null,
   "metadata": {
    "collapsed": true
   },
   "outputs": [],
   "source": []
  },
  {
   "cell_type": "code",
   "execution_count": null,
   "metadata": {
    "collapsed": true
   },
   "outputs": [],
   "source": [
    "# TODO: feature for latent factor model\n",
    "\n",
    "# def feature_train(this_anime):\n",
    "#     a = alpha[this_anime]\n",
    "#     bi = beta_i[this_anime]\n",
    "#     feat = [1]\n",
    "#     for entry in training_set:\n",
    "#         bu = beta_u[entry['user_id']]\n",
    "#         feat.append(a+bi+beta_u[user])\n",
    "        \n",
    "#     return feat\n",
    "        \n",
    "        "
   ]
  },
  {
   "cell_type": "code",
   "execution_count": null,
   "metadata": {
    "collapsed": true
   },
   "outputs": [],
   "source": [
    "# X = [feature_train(anime) for anime in beta_i]\n",
    "# y = [float(d['rating']) for d in training_set]"
   ]
  },
  {
   "cell_type": "code",
   "execution_count": null,
   "metadata": {
    "collapsed": true
   },
   "outputs": [],
   "source": []
  },
  {
   "cell_type": "code",
   "execution_count": null,
   "metadata": {
    "collapsed": true
   },
   "outputs": [],
   "source": [
    "# Collaborative Filtering + Regression for rating prediction\n",
    "# Collaborative Filtering for watch prediction (in case we can't figure out how to do rating prediction)\n",
    "# Basic model for latent factor model\n",
    "# How to optimize\n",
    "\n",
    "### Graph\n",
    "# rating according to genre\n",
    "# rating according to types (Movie/OVA/TV Series)\n",
    "# rating according to number of members\n",
    "# Most popular word occuring in title\n",
    "# Average number of members by genres\n"
   ]
  },
  {
   "cell_type": "code",
   "execution_count": null,
   "metadata": {
    "collapsed": true
   },
   "outputs": [],
   "source": [
    "# Collaborative Filtering + Regression for rating prediction\n",
    "# Collaborative Filtering for watch prediction (in case we can't figure out how to do rating prediction)\n",
    "# Basic model for latent factor model\n",
    "# How to optimize"
   ]
  },
  {
   "cell_type": "code",
   "execution_count": null,
   "metadata": {
    "collapsed": true
   },
   "outputs": [],
   "source": []
  },
  {
   "cell_type": "code",
   "execution_count": null,
   "metadata": {
    "collapsed": true
   },
   "outputs": [],
   "source": [
    "    "
   ]
  },
  {
   "cell_type": "code",
   "execution_count": 30,
   "metadata": {
    "collapsed": true
   },
   "outputs": [],
   "source": [
    "# Rating prediction based on collaborative filtering + regression\n",
    "\n",
    "\n",
    "def get_anime_users():\n",
    "    #first get a dictionary of key: business user: set\n",
    "    anime_user_dict = {}\n",
    "    for review in training_set:\n",
    "        anime = review['anime_id']\n",
    "        user = review['user_id']\n",
    "        if anime in anime_user_dict:\n",
    "            user_set = anime_user_dict[anime]\n",
    "            user_set.add(user)\n",
    "        else:\n",
    "            user_set = set()\n",
    "            user_set.add(user)\n",
    "            anime_user_dict[anime] = user_set\n",
    "    return anime_user_dict\n",
    "\n",
    "def get_user_anime():\n",
    "    #first get a dictionary of key: business user: set\n",
    "    user_anime_dict = {}\n",
    "    for review in training_set:\n",
    "        anime = review['anime_id']\n",
    "        user = review['user_id']\n",
    "        if user in user_anime_dict:\n",
    "            anime_set = user_anime_dict[user]\n",
    "            anime_set.add(anime)\n",
    "        else:\n",
    "            anime_set = set()\n",
    "            anime_set.add(anime)\n",
    "            user_anime_dict[user] = anime_set\n",
    "    return user_anime_dict\n",
    "\n",
    "\n",
    "\n",
    "def jaccard_sim_user(check_user, check_anime):\n",
    "    #given a business, find the most similar business\n",
    "    max_sim = 0.0\n",
    "#     count = 0\n",
    "\n",
    "    if check_anime not in anime_users_dict: return False\n",
    "    else:\n",
    "        users = anime_users_dict[check_anime]\n",
    "        for user in users:\n",
    "            if user == check_user: continue\n",
    "            if check_user not in user_anime_dict: continue\n",
    "            current_user_anime = user_anime_dict[user]\n",
    "            check_user_anime = user_anime_dict[check_user]\n",
    "            intersect = current_user_anime.intersection(check_user_anime)\n",
    "            union = current_user_anime.union(check_user_anime)\n",
    "            # print(intersect)\n",
    "            # print(union)\n",
    "            similarity = float(len(intersect))/len(union)\n",
    "            if similarity > max_sim:\n",
    "                max_sim = similarity\n",
    "            #max_sim += similarity\n",
    "#             count += 1\n",
    "\n",
    "#      print(max_sim)\n",
    "    return max_sim\n",
    "\n",
    "#     if (max_sim > 0.059):\n",
    "#         return True\n",
    "#     else:\n",
    "#         return False\n",
    "\n",
    "\n"
   ]
  },
  {
   "cell_type": "code",
   "execution_count": 31,
   "metadata": {
    "collapsed": true
   },
   "outputs": [],
   "source": [
    "# call function to build anime_user_dict and user_anime_dict\n",
    "\n",
    "anime_users_dict = get_anime_users()\n",
    "user_anime_dict = get_user_anime()"
   ]
  },
  {
   "cell_type": "code",
   "execution_count": 32,
   "metadata": {
    "collapsed": true
   },
   "outputs": [],
   "source": [
    "import numpy\n",
    "\n",
    "# feature based on collaborative filtering\n",
    "def feature(u,a):\n",
    "    feat = [1]\n",
    "    #feat.append(1 if jaccard_sim_user(u,a) > 0.01 else 0)\n",
    "    feat.append(jaccard_sim_user(u,a))\n",
    "#     if (similarity(u,a)):\n",
    "#         feat.append(1)\n",
    "#     else:\n",
    "#         feat.append(0)\n",
    "    return feat"
   ]
  },
  {
   "cell_type": "code",
   "execution_count": 33,
   "metadata": {
    "collapsed": true
   },
   "outputs": [],
   "source": [
    "X_train = [feature(d['user_id'],d['anime_id']) for d in training_set]\n",
    "y_train = [float(d['rating']) for d in training_set]\n",
    "X_validation = [feature(d['user_id'],d['anime_id']) for d in validation_set]\n",
    "y_validation = [float(d['rating']) for d in validation_set]\n",
    "theta, residuals, rank, s = numpy.linalg.lstsq(X_train,y_train)"
   ]
  },
  {
   "cell_type": "code",
   "execution_count": 34,
   "metadata": {
    "collapsed": false
   },
   "outputs": [
    {
     "data": {
      "text/plain": [
       "array([ 7.70948912,  1.53688363])"
      ]
     },
     "execution_count": 34,
     "metadata": {},
     "output_type": "execute_result"
    }
   ],
   "source": [
    "theta"
   ]
  },
  {
   "cell_type": "code",
   "execution_count": 35,
   "metadata": {
    "collapsed": true
   },
   "outputs": [],
   "source": [
    "import math\n",
    "\n",
    "def mse(X, y, theta, size):\n",
    "    MSSum = 0.0\n",
    "    for i in range(0,size):\n",
    "        MSSum += numpy.square(int(y[i]) - numpy.dot(X[i], theta))\n",
    "    return MSSum / size"
   ]
  },
  {
   "cell_type": "code",
   "execution_count": 36,
   "metadata": {
    "collapsed": false
   },
   "outputs": [
    {
     "name": "stdout",
     "output_type": "stream",
     "text": [
      "Validation MSE is 2.29699162412\n",
      "Training MSE is 2.2622388855\n",
      "variance is 2.30704351556\n",
      "\n",
      "RMSE is 1.5155829321147043\n"
     ]
    }
   ],
   "source": [
    "# Calculating MSE and variance\n",
    "\n",
    "print(\"Validation MSE is \" + str(mse(X_validation,y_validation, theta, len(X_validation))))\n",
    "print(\"Training MSE is \" + str(mse(X_train,y_train, theta, len(X_train))))\n",
    "print(\"variance is \" + str(numpy.var([int(d) for d in y_validation])))\n",
    "\n",
    "print(\"\\nRMSE is \"+ str(math.sqrt(mse(X_validation,y_validation, theta, len(X_validation)))))"
   ]
  },
  {
   "cell_type": "code",
   "execution_count": null,
   "metadata": {
    "collapsed": true
   },
   "outputs": [],
   "source": []
  },
  {
   "cell_type": "code",
   "execution_count": 37,
   "metadata": {
    "collapsed": true
   },
   "outputs": [],
   "source": [
    "# Watch prediction based on collaborative filtering\n",
    "\n",
    "\n",
    "import random\n",
    "\n",
    "anime_id_set = set()\n",
    "user_id_set = set()\n",
    "for l in rating_3:\n",
    "    anime_id_set.add(l['anime_id'])\n",
    "    user_id_set.add(l['user_id'])\n",
    "    \n",
    "visited_pair = []\n",
    "for l in validation_set:\n",
    "    visited_pair.append((l['user_id'], l['anime_id']))\n",
    "anime_id_list = list(anime_id_set)\n",
    "user_id_list = list(user_id_set)\n",
    "visited_pair = set(visited_pair)\n",
    "\n",
    "\n",
    "\n",
    "\n",
    "# Build random pairs \n",
    "\n",
    "random_pair = []\n",
    "count = 0\n",
    "\n",
    "while(count < 75000):\n",
    "    randomIndex1 = random.randint(0, len(anime_id_set)-1)\n",
    "    randomIndex2 = random.randint(0, len(user_id_set)-1)\n",
    "    userid = user_id_list[randomIndex2]\n",
    "    animeid = anime_id_list[randomIndex1]\n",
    "    \n",
    "    if (userid,animeid) not in visited_pair:\n",
    "        temp_dict = {}\n",
    "        temp_dict['user_id'] = userid\n",
    "        temp_dict['anime_id'] = animeid\n",
    "    \n",
    "        random_pair.append(temp_dict)\n",
    "        count += 1\n",
    "        \n",
    "        \n",
    "# Combine random pairs with validation set to make complete validation set\n",
    "\n",
    "complete_validation_set = validation_set + random_pair"
   ]
  },
  {
   "cell_type": "code",
   "execution_count": 38,
   "metadata": {
    "collapsed": true
   },
   "outputs": [],
   "source": [
    "# Watch prediction\n",
    "\n",
    "def watch_prediction():\n",
    "    \n",
    "    true_pos = 0\n",
    "    true_neg = 0\n",
    "    \n",
    "    for l in validation_set:\n",
    "        u,a = l['user_id'], l['anime_id']\n",
    "        if jaccard_sim_user(u,a):\n",
    "            true_pos += 1\n",
    "            \n",
    "    for l in random_pair:\n",
    "        u,a = l['user_id'], l['anime_id']\n",
    "        if not jaccard_sim_user(u,a):\n",
    "            true_neg += 1\n",
    "            \n",
    "    accuracy = (true_pos + true_neg) / len(complete_validation_set)\n",
    "    print(\"Accuracy is \", accuracy)\n",
    "    \n"
   ]
  },
  {
   "cell_type": "code",
   "execution_count": 39,
   "metadata": {
    "collapsed": false
   },
   "outputs": [
    {
     "name": "stdout",
     "output_type": "stream",
     "text": [
      "Accuracy is  0.65856\n"
     ]
    }
   ],
   "source": [
    "watch_prediction()"
   ]
  },
  {
   "cell_type": "code",
   "execution_count": 40,
   "metadata": {
    "collapsed": true
   },
   "outputs": [],
   "source": [
    "# To-do List\n",
    "\n",
    "# Finish latent factor model with regresison\n",
    "# Try using both jaccard similarity and latent factor model\n",
    "# Writeup\n"
   ]
  },
  {
   "cell_type": "code",
   "execution_count": null,
   "metadata": {
    "collapsed": true
   },
   "outputs": [],
   "source": []
  },
  {
   "cell_type": "code",
   "execution_count": null,
   "metadata": {
    "collapsed": true
   },
   "outputs": [],
   "source": []
  },
  {
   "cell_type": "code",
   "execution_count": null,
   "metadata": {
    "collapsed": true
   },
   "outputs": [],
   "source": []
  }
 ],
 "metadata": {
  "anaconda-cloud": {},
  "kernelspec": {
   "display_name": "Python [default]",
   "language": "python",
   "name": "python3"
  },
  "language_info": {
   "codemirror_mode": {
    "name": "ipython",
    "version": 3
   },
   "file_extension": ".py",
   "mimetype": "text/x-python",
   "name": "python",
   "nbconvert_exporter": "python",
   "pygments_lexer": "ipython3",
   "version": "3.5.2"
  }
 },
 "nbformat": 4,
 "nbformat_minor": 2
}
